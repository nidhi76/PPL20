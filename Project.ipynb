{
  "nbformat": 4,
  "nbformat_minor": 0,
  "metadata": {
    "colab": {
      "name": "Project.ipynb",
      "provenance": [],
      "collapsed_sections": [],
      "include_colab_link": true
    },
    "kernelspec": {
      "name": "python3",
      "display_name": "Python 3"
    },
    "accelerator": "GPU"
  },
  "cells": [
    {
      "cell_type": "markdown",
      "metadata": {
        "id": "view-in-github",
        "colab_type": "text"
      },
      "source": [
        "<a href=\"https://colab.research.google.com/github/nidhi76/PPL20/blob/master/Project.ipynb\" target=\"_parent\"><img src=\"https://colab.research.google.com/assets/colab-badge.svg\" alt=\"Open In Colab\"/></a>"
      ]
    },
    {
      "cell_type": "markdown",
      "metadata": {
        "id": "8p4RbEJ56b1V",
        "colab_type": "text"
      },
      "source": [
        "**AUDIO EVENT DETECTION**"
      ]
    },
    {
      "cell_type": "code",
      "metadata": {
        "id": "6J_81X_huVci",
        "colab_type": "code",
        "outputId": "493db91d-1c89-447f-bc4b-42e9f1205936",
        "colab": {
          "base_uri": "https://localhost:8080/",
          "height": 146
        }
      },
      "source": [
        "pip install pysoundfile"
      ],
      "execution_count": 0,
      "outputs": [
        {
          "output_type": "stream",
          "text": [
            "Collecting pysoundfile\n",
            "  Downloading https://files.pythonhosted.org/packages/2a/b3/0b871e5fd31b9a8e54b4ee359384e705a1ca1e2870706d2f081dc7cc1693/PySoundFile-0.9.0.post1-py2.py3-none-any.whl\n",
            "Requirement already satisfied: cffi>=0.6 in /usr/local/lib/python3.6/dist-packages (from pysoundfile) (1.12.3)\n",
            "Requirement already satisfied: pycparser in /usr/local/lib/python3.6/dist-packages (from cffi>=0.6->pysoundfile) (2.19)\n",
            "Installing collected packages: pysoundfile\n",
            "Successfully installed pysoundfile-0.9.0.post1\n"
          ],
          "name": "stdout"
        }
      ]
    },
    {
      "cell_type": "code",
      "metadata": {
        "id": "MQk3rWFSxGhs",
        "colab_type": "code",
        "outputId": "2ada69db-b8fe-4aa7-c7f7-35063dd0d5fd",
        "colab": {
          "base_uri": "https://localhost:8080/",
          "height": 35
        }
      },
      "source": [
        "\n",
        "import pandas as pd\n",
        "import numpy as np\n",
        "import librosa\n",
        "import os\n",
        "from keras.utils import to_categorical\n",
        "from tqdm import tqdm\n",
        "import matplotlib.pyplot as plt"
      ],
      "execution_count": 0,
      "outputs": [
        {
          "output_type": "stream",
          "text": [
            "Using TensorFlow backend.\n"
          ],
          "name": "stderr"
        }
      ]
    },
    {
      "cell_type": "code",
      "metadata": {
        "id": "It0DYEsstiwc",
        "colab_type": "code",
        "outputId": "8fae8a66-d9e7-4e25-cc7c-a2b233012a24",
        "colab": {
          "base_uri": "https://localhost:8080/",
          "height": 128
        }
      },
      "source": [
        "from google.colab import drive\n",
        "drive.mount('/content/drive')"
      ],
      "execution_count": 0,
      "outputs": [
        {
          "output_type": "stream",
          "text": [
            "Go to this URL in a browser: https://accounts.google.com/o/oauth2/auth?client_id=947318989803-6bn6qk8qdgf4n4g3pfee6491hc0brc4i.apps.googleusercontent.com&redirect_uri=urn%3Aietf%3Awg%3Aoauth%3A2.0%3Aoob&scope=email%20https%3A%2F%2Fwww.googleapis.com%2Fauth%2Fdocs.test%20https%3A%2F%2Fwww.googleapis.com%2Fauth%2Fdrive%20https%3A%2F%2Fwww.googleapis.com%2Fauth%2Fdrive.photos.readonly%20https%3A%2F%2Fwww.googleapis.com%2Fauth%2Fpeopleapi.readonly&response_type=code\n",
            "\n",
            "Enter your authorization code:\n",
            "··········\n",
            "Mounted at /content/drive\n"
          ],
          "name": "stdout"
        }
      ]
    },
    {
      "cell_type": "code",
      "metadata": {
        "id": "l6QLuuijvJun",
        "colab_type": "code",
        "outputId": "b4285d0d-95b0-4fc7-8e76-206132f97f02",
        "colab": {
          "resources": {
            "http://localhost:8080/nbextensions/google.colab/files.js": {
              "data": "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",
              "ok": true,
              "headers": [
                [
                  "content-type",
                  "application/javascript"
                ]
              ],
              "status": 200,
              "status_text": ""
            }
          },
          "base_uri": "https://localhost:8080/",
          "height": 75
        }
      },
      "source": [
        "from google.colab import files\n",
        "uploaded = files.upload()"
      ],
      "execution_count": 0,
      "outputs": [
        {
          "output_type": "display_data",
          "data": {
            "text/html": [
              "\n",
              "     <input type=\"file\" id=\"files-67fe21ee-9116-4c0e-ab42-b10611c0de9c\" name=\"files[]\" multiple disabled />\n",
              "     <output id=\"result-67fe21ee-9116-4c0e-ab42-b10611c0de9c\">\n",
              "      Upload widget is only available when the cell has been executed in the\n",
              "      current browser session. Please rerun this cell to enable.\n",
              "      </output>\n",
              "      <script src=\"/nbextensions/google.colab/files.js\"></script> "
            ],
            "text/plain": [
              "<IPython.core.display.HTML object>"
            ]
          },
          "metadata": {
            "tags": []
          }
        },
        {
          "output_type": "stream",
          "text": [
            "Saving training_data_shuffled.csv to training_data_shuffled.csv\n"
          ],
          "name": "stdout"
        }
      ]
    },
    {
      "cell_type": "code",
      "metadata": {
        "id": "Nl_KpEyPTMpC",
        "colab_type": "code",
        "outputId": "943b38c2-e839-4183-e077-137acc44268a",
        "colab": {
          "resources": {
            "http://localhost:8080/nbextensions/google.colab/files.js": {
              "data": "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",
              "ok": true,
              "headers": [
                [
                  "content-type",
                  "application/javascript"
                ]
              ],
              "status": 200,
              "status_text": ""
            }
          },
          "base_uri": "https://localhost:8080/",
          "height": 75
        }
      },
      "source": [
        "from google.colab import files\n",
        "uploaded = files.upload()"
      ],
      "execution_count": 0,
      "outputs": [
        {
          "output_type": "display_data",
          "data": {
            "text/html": [
              "\n",
              "     <input type=\"file\" id=\"files-00750b2b-1c2d-4ae5-a8fb-3af9c9f23528\" name=\"files[]\" multiple disabled />\n",
              "     <output id=\"result-00750b2b-1c2d-4ae5-a8fb-3af9c9f23528\">\n",
              "      Upload widget is only available when the cell has been executed in the\n",
              "      current browser session. Please rerun this cell to enable.\n",
              "      </output>\n",
              "      <script src=\"/nbextensions/google.colab/files.js\"></script> "
            ],
            "text/plain": [
              "<IPython.core.display.HTML object>"
            ]
          },
          "metadata": {
            "tags": []
          }
        },
        {
          "output_type": "stream",
          "text": [
            "Saving test_data_shuffled.csv to test_data_shuffled.csv\n"
          ],
          "name": "stdout"
        }
      ]
    },
    {
      "cell_type": "code",
      "metadata": {
        "id": "U94aOCGztnHw",
        "colab_type": "code",
        "colab": {}
      },
      "source": [
        "#UNZIPPING THE DATA\n",
        "#!unzip -uq \"/content/drive/My Drive/Data/training_data1.zip\" -d \"/content/drive/My Drive/Data/TrainData\""
      ],
      "execution_count": 0,
      "outputs": []
    },
    {
      "cell_type": "code",
      "metadata": {
        "id": "Eqyxx2rZ37LT",
        "colab_type": "code",
        "colab": {}
      },
      "source": [
        "#UNZIPPING THE DATA\n",
        "#!unzip -uq \"/content/drive/My Drive/Data/test_data1.zip\" -d \"/content/drive/My Drive/Data/TestData\""
      ],
      "execution_count": 0,
      "outputs": []
    },
    {
      "cell_type": "code",
      "metadata": {
        "id": "0BTaiXbTvmzC",
        "colab_type": "code",
        "colab": {}
      },
      "source": [
        "#READING THE CSV FILES\n",
        "import soundfile as sf\n",
        "df=pd.read_csv('training_data_shuffled.csv')\n",
        "df.set_index('fname',inplace=True)"
      ],
      "execution_count": 0,
      "outputs": []
    },
    {
      "cell_type": "code",
      "metadata": {
        "id": "5t6m3XVH4ZWw",
        "colab_type": "code",
        "colab": {}
      },
      "source": [
        "#READING THE CSV FILES\n",
        "import soundfile as sf\n",
        "pf=pd.read_csv('test_data_shuffled.csv')\n",
        "pf.set_index('fname',inplace=True)"
      ],
      "execution_count": 0,
      "outputs": []
    },
    {
      "cell_type": "code",
      "metadata": {
        "id": "Jdp4SlgjVIba",
        "colab_type": "code",
        "colab": {}
      },
      "source": [
        "#CONVERTING TO 16 BIT FILES AND STORING IT IN DRIVE FOR TRAINDATA\n",
        "#for f in df.index:\n",
        " # data, samplerate = sf.read('/content/drive/My Drive/Data/TrainData/'+f)\n",
        "  #sf.write('/content/drive/My Drive/Data/AudioData/'+f, data, samplerate, subtype='PCM_16')"
      ],
      "execution_count": 0,
      "outputs": []
    },
    {
      "cell_type": "code",
      "metadata": {
        "id": "VPe_0UgMuxQr",
        "colab_type": "code",
        "colab": {}
      },
      "source": [
        "#CONVERTING TO 16 BIT FILES AND STORING IT IN DRIVE FOR TESTDATA\n",
        "#for f in df.index:\n",
        " # data_1, samplerate_1=librosa.load('/content/drive/My Drive/Data/AudioData/'+f, sr=16000)\n",
        "  #df.at[f,'length']=data_1.shape[0]/samplerate_1"
      ],
      "execution_count": 0,
      "outputs": []
    },
    {
      "cell_type": "code",
      "metadata": {
        "id": "juUiMD8X9gl9",
        "colab_type": "code",
        "outputId": "e14df361-5d6e-497e-bf36-181769824c99",
        "colab": {
          "base_uri": "https://localhost:8080/",
          "height": 72
        }
      },
      "source": [
        "#LIST OF CLASSES\n",
        "labels=['babycry','gunshot','glassbreak']\n",
        "label_indices=np.arange(0,len(labels))\n",
        "one_hot=to_categorical(label_indices)\n",
        "print(one_hot)"
      ],
      "execution_count": 0,
      "outputs": [
        {
          "output_type": "stream",
          "text": [
            "[[1. 0. 0.]\n",
            " [0. 1. 0.]\n",
            " [0. 0. 1.]]\n"
          ],
          "name": "stdout"
        }
      ]
    },
    {
      "cell_type": "markdown",
      "metadata": {
        "id": "xBrD5vjH7IBI",
        "colab_type": "text"
      },
      "source": [
        "**PREPROCESSING**"
      ]
    },
    {
      "cell_type": "code",
      "metadata": {
        "id": "6lSPyZG-Devn",
        "colab_type": "code",
        "outputId": "d5615456-4b67-493e-b97d-a0e0a3f54013",
        "colab": {
          "base_uri": "https://localhost:8080/",
          "height": 55
        }
      },
      "source": [
        "#EXTRACTING MFCCs FROM THE WAV FILES\n",
        "mfc=[]\n",
        "SAMPLE_RATE = 16000\n",
        "i=0\n",
        "for f in df.index:\n",
        "  fname = '/content/drive/My Drive/Data/TrainData/' + f   # Hi-hat\n",
        "  wav, sr = librosa.core.load(fname, sr=SAMPLE_RATE,duration=30.0)\n",
        "  mfcc = librosa.feature.mfcc(y=wav, sr=SAMPLE_RATE, n_mfcc=40)\n",
        "  mfcc_delta = librosa.feature.delta(mfcc)\n",
        "  mfc.append(mfcc_delta)\n",
        "  print(i,end=\" \")\n",
        "  i=i+1\n",
        "mfcc=np.array(mfc)\n",
        "print(mfcc.shape)"
      ],
      "execution_count": 0,
      "outputs": [
        {
          "output_type": "stream",
          "text": [
            "0 1 2 3 4 5 6 7 8 9 10 11 12 13 14 15 16 17 18 19 20 21 22 23 24 25 26 27 28 29 30 31 32 33 34 35 36 37 38 39 40 41 42 43 44 45 46 47 48 49 50 51 52 53 54 55 56 57 58 59 60 61 62 63 64 65 66 67 68 69 70 71 72 73 74 75 76 77 78 79 80 81 82 83 84 85 86 87 88 89 90 91 92 93 94 95 96 97 98 99 100 101 102 103 104 105 106 107 108 109 110 111 112 113 114 115 116 117 118 119 120 121 122 123 124 125 126 127 128 129 130 131 132 133 134 135 136 137 138 139 140 141 142 143 144 145 146 147 148 149 150 151 152 153 154 155 156 157 158 159 160 161 162 163 164 165 166 167 168 169 170 171 172 173 174 175 176 177 178 179 180 181 182 183 184 185 186 187 188 189 190 191 192 193 194 195 196 197 198 199 200 201 202 203 204 205 206 207 208 209 210 211 212 213 214 215 216 217 218 219 220 221 222 223 224 225 226 227 228 229 230 231 232 233 234 235 236 237 238 239 240 241 242 243 244 245 246 247 248 249 250 251 252 253 254 255 256 257 258 259 260 261 262 263 264 265 266 267 268 269 270 271 272 273 274 275 276 277 278 279 280 281 282 283 284 285 286 287 288 289 290 291 292 293 294 295 296 297 298 299 300 301 302 303 304 305 306 307 308 309 310 311 312 313 314 315 316 317 318 319 320 321 322 323 324 325 326 327 328 329 330 331 332 333 334 335 336 337 338 339 340 341 342 343 344 345 346 347 348 349 350 351 352 353 354 355 356 357 358 359 360 361 362 363 364 365 366 367 368 369 370 371 372 373 374 375 376 377 378 379 380 381 382 383 384 385 386 387 388 389 390 391 392 393 394 395 396 397 398 399 400 401 402 403 404 405 406 407 408 409 410 411 412 413 414 415 416 417 418 419 420 421 422 423 424 425 426 427 428 429 430 431 432 433 434 435 436 437 438 439 440 441 442 443 444 445 446 447 448 449 450 451 452 453 454 455 456 457 458 459 460 461 462 463 464 465 466 467 468 469 470 471 472 473 474 475 476 477 478 479 480 481 482 483 484 485 486 487 488 489 490 491 492 493 494 495 496 497 498 499 500 501 502 503 504 505 506 507 508 509 510 511 512 513 514 515 516 517 518 519 520 521 522 523 524 525 526 527 528 529 530 531 532 533 534 535 536 537 538 539 540 541 542 543 544 545 546 547 548 549 550 551 552 553 554 555 556 557 558 559 560 561 562 563 564 565 566 567 568 569 570 571 572 573 574 575 576 577 578 579 580 581 582 583 584 585 586 587 588 589 590 591 592 593 594 595 596 597 598 599 600 601 602 603 604 605 606 607 608 609 610 611 612 613 614 615 616 617 618 619 620 621 622 623 624 625 626 627 628 629 630 631 632 633 634 635 636 637 638 639 640 641 642 643 644 645 646 647 648 649 650 651 652 653 654 655 656 657 658 659 660 661 662 663 664 665 666 667 668 669 670 671 672 673 674 675 676 677 678 679 680 681 682 683 684 685 686 687 688 689 690 691 692 693 694 695 696 697 698 699 700 701 702 703 704 705 706 707 708 709 710 711 712 713 714 715 716 717 718 719 720 721 722 723 724 725 726 727 728 729 730 731 732 733 734 735 736 737 738 739 740 741 742 743 744 745 746 747 748 749 750 751 752 753 754 755 756 757 758 759 760 761 762 763 764 765 766 767 768 769 770 771 772 773 774 775 776 777 778 779 780 781 782 783 784 785 786 787 788 789 790 791 792 793 794 795 796 797 798 799 800 801 802 803 804 805 806 807 808 809 810 811 812 813 814 815 816 817 818 819 820 821 822 823 824 825 826 827 828 829 830 831 832 833 834 835 836 837 838 839 840 841 842 843 844 845 846 847 848 849 850 851 852 853 854 855 856 857 858 859 860 861 862 863 864 865 866 867 868 869 870 871 872 873 874 875 876 877 878 879 880 881 882 883 884 885 886 887 888 889 890 891 892 893 894 895 896 897 898 899 900 901 902 903 904 905 906 907 908 909 910 911 912 913 914 915 916 917 918 919 920 921 922 923 924 925 926 927 928 929 930 931 932 933 934 935 936 937 938 939 940 941 942 943 944 945 946 947 948 949 950 951 952 953 954 955 956 957 958 959 960 961 962 963 964 965 966 967 968 969 970 971 972 973 974 975 976 977 978 979 980 981 982 983 984 985 986 987 988 989 990 991 992 993 994 995 996 997 998 999 (1000, 40, 938)\n"
          ],
          "name": "stdout"
        }
      ]
    },
    {
      "cell_type": "code",
      "metadata": {
        "id": "RjrRfSDVmoqz",
        "colab_type": "code",
        "colab": {}
      },
      "source": [
        "#SAVING THE CORRESPONDING MFCC VECTORS IN THE CSV FILE\n",
        "df=df.assign(music=mfc)\n",
        "df.infer_objects()\n",
        "df.to_pickle(\"df_pickled.csv\")\n",
        "df.head()"
      ],
      "execution_count": 0,
      "outputs": []
    },
    {
      "cell_type": "code",
      "metadata": {
        "id": "i3f0onM8qS_f",
        "colab_type": "code",
        "outputId": "d575fae4-7dcb-4f97-fedf-1761cad60e41",
        "colab": {
          "base_uri": "https://localhost:8080/",
          "height": 54
        }
      },
      "source": [
        "dat=pd.read_pickle(\"df_pickled.csv\")\n",
        "dat.dtypes"
      ],
      "execution_count": 0,
      "outputs": [
        {
          "output_type": "execute_result",
          "data": {
            "text/plain": [
              "label    object\n",
              "dtype: object"
            ]
          },
          "metadata": {
            "tags": []
          },
          "execution_count": 24
        }
      ]
    },
    {
      "cell_type": "code",
      "metadata": {
        "id": "XY2jNWBU4oCM",
        "colab_type": "code",
        "outputId": "5e8009db-6f53-45e5-ca15-3ac442f4a668",
        "colab": {
          "base_uri": "https://localhost:8080/",
          "height": 35
        }
      },
      "source": [
        "#EXTRACTING MFCCs FROM THE WAV FILES\n",
        "mtest=[]\n",
        "i=0\n",
        "for f in pf.index:\n",
        "  fname = '/content/drive/My Drive/Data/TestData/' + f   # Hi-hat\n",
        "  wav, sr = librosa.core.load(fname, sr=SAMPLE_RATE,duration=30.0)\n",
        "  mfcc = mfccs = librosa.feature.mfcc(y=wav, sr=SAMPLE_RATE, n_mfcc=40)\n",
        "  mfcc_delta = librosa.feature.delta(mfcc)\n",
        "  mtest.append(mfcc_delta)\n",
        "  print(i,end=\" \")\n",
        "  i=i+1\n",
        "mfcctest=np.array(mtest)\n",
        "print(mfcctest.shape)"
      ],
      "execution_count": 0,
      "outputs": [
        {
          "output_type": "stream",
          "text": [
            "201 202 203 204 205 206 207 208 209 (210, 40, 938)\n"
          ],
          "name": "stdout"
        }
      ]
    },
    {
      "cell_type": "code",
      "metadata": {
        "id": "5Rx5fMT3wgEb",
        "colab_type": "code",
        "colab": {}
      },
      "source": [
        "#ACCESING THE MFCC FRROM THE CSV FILE\n",
        "df=pd.read_pickle('df_pickled.csv')\n",
        "x=df.iloc[:,1].tolist()\n",
        "x=np.array(x)"
      ],
      "execution_count": 0,
      "outputs": []
    },
    {
      "cell_type": "markdown",
      "metadata": {
        "id": "4NP13m2O7uyq",
        "colab_type": "text"
      },
      "source": [
        "**DATA NORMALIZATION**"
      ]
    },
    {
      "cell_type": "code",
      "metadata": {
        "id": "1VhGDTEo-iIs",
        "colab_type": "code",
        "outputId": "91591e7a-4695-4550-df8a-1202a11b87f8",
        "colab": {
          "base_uri": "https://localhost:8080/",
          "height": 35
        }
      },
      "source": [
        "#NORMALIZING TRAIN DATA\n",
        "mean_train =np.mean(x)\n",
        "std_train = np.std(x)\n",
        "X_train = (x-mean_train)/(std_train+1e-8)\n",
        "X_train.shape"
      ],
      "execution_count": 0,
      "outputs": [
        {
          "output_type": "execute_result",
          "data": {
            "text/plain": [
              "(1000, 40, 938)"
            ]
          },
          "metadata": {
            "tags": []
          },
          "execution_count": 39
        }
      ]
    },
    {
      "cell_type": "code",
      "metadata": {
        "id": "scNqw2Nj-j0Z",
        "colab_type": "code",
        "outputId": "05ebefa1-b15b-4eb9-a821-a396880e5acc",
        "colab": {
          "base_uri": "https://localhost:8080/",
          "height": 35
        }
      },
      "source": [
        "#NORMALIZING TEST DATA\n",
        "X_test = (mfcctest-mean_train)/(std_train+1e-8)\n",
        "X_test.shape"
      ],
      "execution_count": 0,
      "outputs": [
        {
          "output_type": "execute_result",
          "data": {
            "text/plain": [
              "(210, 40, 938)"
            ]
          },
          "metadata": {
            "tags": []
          },
          "execution_count": 40
        }
      ]
    },
    {
      "cell_type": "code",
      "metadata": {
        "id": "j1b4_LF6fscW",
        "colab_type": "code",
        "outputId": "f45faec8-16b2-4254-8fa6-b7e77556784e",
        "colab": {
          "base_uri": "https://localhost:8080/",
          "height": 276
        }
      },
      "source": [
        "#PLOTTING DELTA MFCC\n",
        "import librosa.display\n",
        "librosa.display.specshow(x[8], y_axis='log')"
      ],
      "execution_count": 0,
      "outputs": [
        {
          "output_type": "execute_result",
          "data": {
            "text/plain": [
              "<matplotlib.axes._subplots.AxesSubplot at 0x7f429753fa90>"
            ]
          },
          "metadata": {
            "tags": []
          },
          "execution_count": 41
        },
        {
          "output_type": "display_data",
          "data": {
            "image/png": "[encoded data removed]",
            "text/plain": [
              "<Figure size 432x288 with 1 Axes>"
            ]
          },
          "metadata": {
            "tags": []
          }
        }
      ]
    },
    {
      "cell_type": "markdown",
      "metadata": {
        "id": "GMWEcz208MnC",
        "colab_type": "text"
      },
      "source": [
        "**ONE HOT ENCODING**"
      ]
    },
    {
      "cell_type": "code",
      "metadata": {
        "id": "tkgMPOWeg0ea",
        "colab_type": "code",
        "outputId": "8f25faa4-e8c2-457d-a54a-0fe8cc38bca5",
        "colab": {
          "base_uri": "https://localhost:8080/",
          "height": 145
        }
      },
      "source": [
        "y=[]\n",
        "df.set_index('label',inplace=True)\n",
        "df\n",
        "for f in df.index:\n",
        "  y.append(labels.index(f))\n",
        "y_train=to_categorical(y,3)\n",
        "print(y_train)"
      ],
      "execution_count": 0,
      "outputs": [
        {
          "output_type": "stream",
          "text": [
            "[[0. 0. 1.]\n",
            " [0. 0. 1.]\n",
            " [0. 1. 0.]\n",
            " ...\n",
            " [0. 0. 1.]\n",
            " [0. 0. 1.]\n",
            " [0. 1. 0.]]\n"
          ],
          "name": "stdout"
        }
      ]
    },
    {
      "cell_type": "code",
      "metadata": {
        "id": "zPow2IFT6p7S",
        "colab_type": "code",
        "colab": {}
      },
      "source": [
        "yt=[]\n",
        "pf.set_index('label',inplace=True)\n",
        "for f in pf.index:\n",
        "  yt.append(labels.index(f))\n",
        "y_test=to_categorical(yt,3)"
      ],
      "execution_count": 0,
      "outputs": []
    },
    {
      "cell_type": "markdown",
      "metadata": {
        "id": "y1xHUAfv8iO-",
        "colab_type": "text"
      },
      "source": [
        "**MODEL**"
      ]
    },
    {
      "cell_type": "code",
      "metadata": {
        "id": "rr9EGLENk2F_",
        "colab_type": "code",
        "colab": {}
      },
      "source": [
        "import keras\n",
        "from keras.models import Sequential\n",
        "from keras.layers import Dense, Dropout, Flatten, Conv2D, MaxPooling2D, GlobalAveragePooling2D\n",
        "def get_model():\n",
        "    model = Sequential()\n",
        "    model.add(Conv2D(10, kernel_size=(7, 7), activation='relu', input_shape=(40, 938, 1)))\n",
        "    model.add(MaxPooling2D(pool_size=(2, 2)))\n",
        "    model.add(Dropout(0.25))\n",
        "    model.add(Conv2D(20, kernel_size=(3, 3), activation='relu'))\n",
        "    model.add(MaxPooling2D(pool_size=(2, 2)))\n",
        "    model.add(Dropout(0.25))\n",
        "    model.add(Conv2D(40, kernel_size=(3, 3), activation='relu'))\n",
        "    model.add(Dropout(0.25))\n",
        "    model.add(MaxPooling2D(pool_size=(2, 2)))\n",
        "    model.add(Dropout(0.25))\n",
        "    model.add(GlobalAveragePooling2D())\n",
        "    model.add(Dense(3, activation='softmax'))\n",
        "    model.compile(loss=keras.losses.categorical_crossentropy,\n",
        "                  optimizer=keras.optimizers.Adam(),\n",
        "                  metrics=['accuracy'])\n",
        "    model.summary()\n",
        "    return model"
      ],
      "execution_count": 0,
      "outputs": []
    },
    {
      "cell_type": "markdown",
      "metadata": {
        "id": "gy13t_zb8qQx",
        "colab_type": "text"
      },
      "source": [
        "**TRAINING**"
      ]
    },
    {
      "cell_type": "code",
      "metadata": {
        "id": "MFI3hENdnIYP",
        "colab_type": "code",
        "outputId": "4af5c6dc-e344-4cb0-e848-581bf8a44338",
        "colab": {
          "base_uri": "https://localhost:8080/",
          "height": 1000
        }
      },
      "source": [
        "X_train=X_train.reshape((1000,40,938,1))\n",
        "print(X_train.shape)\n",
        "model = get_model()\n",
        "history=model.fit(X_train, y_train, batch_size=5, epochs=70, verbose=1,validation_split=0.1)"
      ],
      "execution_count": 0,
      "outputs": [
        {
          "output_type": "stream",
          "text": [
            "(1000, 40, 938, 1)\n",
            "_________________________________________________________________\n",
            "Layer (type)                 Output Shape              Param #   \n",
            "=================================================================\n",
            "conv2d_45 (Conv2D)           (None, 34, 932, 10)       500       \n",
            "_________________________________________________________________\n",
            "max_pooling2d_45 (MaxPooling (None, 17, 466, 10)       0         \n",
            "_________________________________________________________________\n",
            "dropout_59 (Dropout)         (None, 17, 466, 10)       0         \n",
            "_________________________________________________________________\n",
            "conv2d_46 (Conv2D)           (None, 15, 464, 20)       1820      \n",
            "_________________________________________________________________\n",
            "max_pooling2d_46 (MaxPooling (None, 7, 232, 20)        0         \n",
            "_________________________________________________________________\n",
            "dropout_60 (Dropout)         (None, 7, 232, 20)        0         \n",
            "_________________________________________________________________\n",
            "conv2d_47 (Conv2D)           (None, 5, 230, 40)        7240      \n",
            "_________________________________________________________________\n",
            "dropout_61 (Dropout)         (None, 5, 230, 40)        0         \n",
            "_________________________________________________________________\n",
            "max_pooling2d_47 (MaxPooling (None, 2, 115, 40)        0         \n",
            "_________________________________________________________________\n",
            "dropout_62 (Dropout)         (None, 2, 115, 40)        0         \n",
            "_________________________________________________________________\n",
            "global_average_pooling2d_6 ( (None, 40)                0         \n",
            "_________________________________________________________________\n",
            "dense_20 (Dense)             (None, 3)                 123       \n",
            "=================================================================\n",
            "Total params: 9,683\n",
            "Trainable params: 9,683\n",
            "Non-trainable params: 0\n",
            "_________________________________________________________________\n",
            "Train on 900 samples, validate on 100 samples\n",
            "Epoch 1/70\n",
            "900/900 [==============================] - 4s 5ms/step - loss: 1.1084 - acc: 0.3344 - val_loss: 1.0965 - val_acc: 0.3500\n",
            "Epoch 2/70\n",
            "900/900 [==============================] - 2s 3ms/step - loss: 1.0852 - acc: 0.4056 - val_loss: 1.0741 - val_acc: 0.5100\n",
            "Epoch 3/70\n",
            "900/900 [==============================] - 3s 3ms/step - loss: 1.0183 - acc: 0.4956 - val_loss: 0.9774 - val_acc: 0.5500\n",
            "Epoch 4/70\n",
            "900/900 [==============================] - 3s 3ms/step - loss: 0.9359 - acc: 0.5311 - val_loss: 0.9463 - val_acc: 0.5400\n",
            "Epoch 5/70\n",
            "900/900 [==============================] - 2s 3ms/step - loss: 0.9005 - acc: 0.5511 - val_loss: 0.9852 - val_acc: 0.4700\n",
            "Epoch 6/70\n",
            "900/900 [==============================] - 2s 3ms/step - loss: 0.8573 - acc: 0.5444 - val_loss: 0.8950 - val_acc: 0.5100\n",
            "Epoch 7/70\n",
            "900/900 [==============================] - 2s 3ms/step - loss: 0.8304 - acc: 0.5822 - val_loss: 0.8663 - val_acc: 0.5800\n",
            "Epoch 8/70\n",
            "900/900 [==============================] - 2s 3ms/step - loss: 0.8336 - acc: 0.5567 - val_loss: 0.8499 - val_acc: 0.5600\n",
            "Epoch 9/70\n",
            "900/900 [==============================] - 2s 3ms/step - loss: 0.7817 - acc: 0.5744 - val_loss: 0.8704 - val_acc: 0.5500\n",
            "Epoch 10/70\n",
            "900/900 [==============================] - 2s 3ms/step - loss: 0.7975 - acc: 0.5844 - val_loss: 0.8113 - val_acc: 0.5600\n",
            "Epoch 11/70\n",
            "900/900 [==============================] - 2s 3ms/step - loss: 0.8061 - acc: 0.5856 - val_loss: 0.8140 - val_acc: 0.5900\n",
            "Epoch 12/70\n",
            "900/900 [==============================] - 2s 3ms/step - loss: 0.7966 - acc: 0.5844 - val_loss: 0.9202 - val_acc: 0.5700\n",
            "Epoch 13/70\n",
            "900/900 [==============================] - 2s 3ms/step - loss: 0.7799 - acc: 0.5867 - val_loss: 0.8488 - val_acc: 0.6200\n",
            "Epoch 14/70\n",
            "900/900 [==============================] - 2s 3ms/step - loss: 0.7591 - acc: 0.6122 - val_loss: 0.8013 - val_acc: 0.6700\n",
            "Epoch 15/70\n",
            "900/900 [==============================] - 2s 3ms/step - loss: 0.7573 - acc: 0.6156 - val_loss: 0.8279 - val_acc: 0.5800\n",
            "Epoch 16/70\n",
            "900/900 [==============================] - 2s 3ms/step - loss: 0.7725 - acc: 0.5878 - val_loss: 0.8493 - val_acc: 0.5500\n",
            "Epoch 17/70\n",
            "900/900 [==============================] - 2s 3ms/step - loss: 0.7509 - acc: 0.6100 - val_loss: 0.7932 - val_acc: 0.6500\n",
            "Epoch 18/70\n",
            "900/900 [==============================] - 2s 3ms/step - loss: 0.7395 - acc: 0.6356 - val_loss: 0.8349 - val_acc: 0.5200\n",
            "Epoch 19/70\n",
            "900/900 [==============================] - 2s 3ms/step - loss: 0.7405 - acc: 0.6133 - val_loss: 0.8607 - val_acc: 0.7200\n",
            "Epoch 20/70\n",
            "900/900 [==============================] - 2s 3ms/step - loss: 0.7269 - acc: 0.6756 - val_loss: 0.7945 - val_acc: 0.6900\n",
            "Epoch 21/70\n",
            "900/900 [==============================] - 2s 3ms/step - loss: 0.7146 - acc: 0.6567 - val_loss: 0.7846 - val_acc: 0.6300\n",
            "Epoch 22/70\n",
            "900/900 [==============================] - 2s 3ms/step - loss: 0.7075 - acc: 0.6611 - val_loss: 0.7271 - val_acc: 0.7500\n",
            "Epoch 23/70\n",
            "900/900 [==============================] - 2s 3ms/step - loss: 0.7087 - acc: 0.6822 - val_loss: 0.7437 - val_acc: 0.7600\n",
            "Epoch 24/70\n",
            "900/900 [==============================] - 2s 3ms/step - loss: 0.7001 - acc: 0.6733 - val_loss: 0.7271 - val_acc: 0.7500\n",
            "Epoch 25/70\n",
            "900/900 [==============================] - 2s 3ms/step - loss: 0.7006 - acc: 0.6989 - val_loss: 0.7417 - val_acc: 0.7400\n",
            "Epoch 26/70\n",
            "900/900 [==============================] - 2s 3ms/step - loss: 0.6401 - acc: 0.7200 - val_loss: 0.7184 - val_acc: 0.7800\n",
            "Epoch 27/70\n",
            "900/900 [==============================] - 2s 3ms/step - loss: 0.6527 - acc: 0.7200 - val_loss: 0.8108 - val_acc: 0.7000\n",
            "Epoch 28/70\n",
            "900/900 [==============================] - 2s 3ms/step - loss: 0.6525 - acc: 0.7311 - val_loss: 0.7129 - val_acc: 0.7600\n",
            "Epoch 29/70\n",
            "900/900 [==============================] - 2s 3ms/step - loss: 0.6276 - acc: 0.7433 - val_loss: 0.6770 - val_acc: 0.8300\n",
            "Epoch 30/70\n",
            "900/900 [==============================] - 2s 3ms/step - loss: 0.6275 - acc: 0.7400 - val_loss: 0.7534 - val_acc: 0.6900\n",
            "Epoch 31/70\n",
            "900/900 [==============================] - 2s 3ms/step - loss: 0.6118 - acc: 0.7344 - val_loss: 0.6545 - val_acc: 0.7900\n",
            "Epoch 32/70\n",
            "900/900 [==============================] - 2s 3ms/step - loss: 0.6088 - acc: 0.7667 - val_loss: 0.6884 - val_acc: 0.7700\n",
            "Epoch 33/70\n",
            "900/900 [==============================] - 2s 3ms/step - loss: 0.6098 - acc: 0.7422 - val_loss: 0.6485 - val_acc: 0.8100\n",
            "Epoch 34/70\n",
            "900/900 [==============================] - 2s 3ms/step - loss: 0.5880 - acc: 0.7600 - val_loss: 0.6699 - val_acc: 0.7900\n",
            "Epoch 35/70\n",
            "900/900 [==============================] - 2s 3ms/step - loss: 0.5432 - acc: 0.7844 - val_loss: 0.6071 - val_acc: 0.8000\n",
            "Epoch 36/70\n",
            "900/900 [==============================] - 2s 3ms/step - loss: 0.5378 - acc: 0.7867 - val_loss: 0.5836 - val_acc: 0.8100\n",
            "Epoch 37/70\n",
            "900/900 [==============================] - 2s 3ms/step - loss: 0.5558 - acc: 0.7878 - val_loss: 0.7080 - val_acc: 0.7000\n",
            "Epoch 38/70\n",
            "900/900 [==============================] - 2s 3ms/step - loss: 0.5698 - acc: 0.7689 - val_loss: 0.5990 - val_acc: 0.8000\n",
            "Epoch 39/70\n",
            "900/900 [==============================] - 2s 3ms/step - loss: 0.5186 - acc: 0.7933 - val_loss: 0.5743 - val_acc: 0.8100\n",
            "Epoch 40/70\n",
            "900/900 [==============================] - 2s 3ms/step - loss: 0.5223 - acc: 0.7867 - val_loss: 0.5816 - val_acc: 0.8100\n",
            "Epoch 41/70\n",
            "900/900 [==============================] - 2s 3ms/step - loss: 0.5053 - acc: 0.7933 - val_loss: 0.5656 - val_acc: 0.8100\n",
            "Epoch 42/70\n",
            "900/900 [==============================] - 2s 3ms/step - loss: 0.4956 - acc: 0.8078 - val_loss: 0.5613 - val_acc: 0.8000\n",
            "Epoch 43/70\n",
            "900/900 [==============================] - 2s 3ms/step - loss: 0.5029 - acc: 0.8078 - val_loss: 0.6570 - val_acc: 0.7700\n",
            "Epoch 44/70\n",
            "900/900 [==============================] - 2s 3ms/step - loss: 0.4990 - acc: 0.8144 - val_loss: 0.5857 - val_acc: 0.8000\n",
            "Epoch 45/70\n",
            "900/900 [==============================] - 2s 3ms/step - loss: 0.4928 - acc: 0.8067 - val_loss: 0.5722 - val_acc: 0.8000\n",
            "Epoch 46/70\n",
            "900/900 [==============================] - 2s 3ms/step - loss: 0.4640 - acc: 0.8244 - val_loss: 0.5624 - val_acc: 0.8100\n",
            "Epoch 47/70\n",
            "900/900 [==============================] - 2s 3ms/step - loss: 0.5018 - acc: 0.8056 - val_loss: 0.5678 - val_acc: 0.8100\n",
            "Epoch 48/70\n",
            "900/900 [==============================] - 2s 3ms/step - loss: 0.4744 - acc: 0.8022 - val_loss: 0.5715 - val_acc: 0.8000\n",
            "Epoch 49/70\n",
            "900/900 [==============================] - 2s 3ms/step - loss: 0.4710 - acc: 0.8089 - val_loss: 0.5906 - val_acc: 0.7800\n",
            "Epoch 50/70\n",
            "900/900 [==============================] - 2s 3ms/step - loss: 0.4918 - acc: 0.8111 - val_loss: 0.5556 - val_acc: 0.8300\n",
            "Epoch 51/70\n",
            "900/900 [==============================] - 2s 3ms/step - loss: 0.4646 - acc: 0.8244 - val_loss: 0.5960 - val_acc: 0.7600\n",
            "Epoch 52/70\n",
            "900/900 [==============================] - 2s 3ms/step - loss: 0.4392 - acc: 0.8233 - val_loss: 0.5128 - val_acc: 0.8400\n",
            "Epoch 53/70\n",
            "900/900 [==============================] - 2s 3ms/step - loss: 0.4524 - acc: 0.8422 - val_loss: 0.5833 - val_acc: 0.8400\n",
            "Epoch 54/70\n",
            "900/900 [==============================] - 2s 3ms/step - loss: 0.4428 - acc: 0.8278 - val_loss: 0.4979 - val_acc: 0.8300\n",
            "Epoch 55/70\n",
            "900/900 [==============================] - 2s 3ms/step - loss: 0.4245 - acc: 0.8589 - val_loss: 0.5272 - val_acc: 0.8500\n",
            "Epoch 56/70\n",
            "900/900 [==============================] - 2s 3ms/step - loss: 0.4170 - acc: 0.8489 - val_loss: 0.5186 - val_acc: 0.8400\n",
            "Epoch 57/70\n",
            "900/900 [==============================] - 2s 3ms/step - loss: 0.4288 - acc: 0.8256 - val_loss: 0.5012 - val_acc: 0.8500\n",
            "Epoch 58/70\n",
            "900/900 [==============================] - 2s 3ms/step - loss: 0.4246 - acc: 0.8433 - val_loss: 0.5859 - val_acc: 0.8300\n",
            "Epoch 59/70\n",
            "900/900 [==============================] - 2s 3ms/step - loss: 0.4156 - acc: 0.8433 - val_loss: 0.5409 - val_acc: 0.8300\n",
            "Epoch 60/70\n",
            "900/900 [==============================] - 2s 3ms/step - loss: 0.4568 - acc: 0.8300 - val_loss: 0.5702 - val_acc: 0.8500\n",
            "Epoch 61/70\n",
            "900/900 [==============================] - 2s 3ms/step - loss: 0.4061 - acc: 0.8422 - val_loss: 0.6381 - val_acc: 0.7500\n",
            "Epoch 62/70\n",
            "900/900 [==============================] - 2s 3ms/step - loss: 0.3846 - acc: 0.8500 - val_loss: 0.5436 - val_acc: 0.8300\n",
            "Epoch 63/70\n",
            "900/900 [==============================] - 2s 3ms/step - loss: 0.4228 - acc: 0.8333 - val_loss: 0.5672 - val_acc: 0.8300\n",
            "Epoch 64/70\n",
            "900/900 [==============================] - 2s 3ms/step - loss: 0.3581 - acc: 0.8644 - val_loss: 0.5195 - val_acc: 0.8300\n",
            "Epoch 65/70\n",
            "900/900 [==============================] - 2s 3ms/step - loss: 0.4269 - acc: 0.8367 - val_loss: 0.5605 - val_acc: 0.8500\n",
            "Epoch 66/70\n",
            "900/900 [==============================] - 2s 3ms/step - loss: 0.3865 - acc: 0.8500 - val_loss: 0.5626 - val_acc: 0.8500\n",
            "Epoch 67/70\n",
            "900/900 [==============================] - 2s 3ms/step - loss: 0.3847 - acc: 0.8522 - val_loss: 0.5577 - val_acc: 0.8400\n",
            "Epoch 68/70\n",
            "900/900 [==============================] - 2s 3ms/step - loss: 0.3751 - acc: 0.8600 - val_loss: 0.5664 - val_acc: 0.8400\n",
            "Epoch 69/70\n",
            "900/900 [==============================] - 2s 3ms/step - loss: 0.4444 - acc: 0.8333 - val_loss: 0.5598 - val_acc: 0.8600\n",
            "Epoch 70/70\n",
            "900/900 [==============================] - 2s 3ms/step - loss: 0.3810 - acc: 0.8711 - val_loss: 0.5518 - val_acc: 0.8300\n"
          ],
          "name": "stdout"
        }
      ]
    },
    {
      "cell_type": "markdown",
      "metadata": {
        "id": "gAdRmpEy8y4K",
        "colab_type": "text"
      },
      "source": [
        "**TESTING**"
      ]
    },
    {
      "cell_type": "code",
      "metadata": {
        "id": "eqCJxNTM3wdO",
        "colab_type": "code",
        "outputId": "1ce0b053-63ba-46f1-98f7-78e8de7b5051",
        "colab": {
          "base_uri": "https://localhost:8080/",
          "height": 108
        }
      },
      "source": [
        "X_test=X_test.reshape((210,40,938,1))\n",
        "from sklearn.metrics import confusion_matrix\n",
        "loss, accuracy = model.evaluate(X_test, y_test, verbose = 1 )\n",
        "print('Test accuracy is ', accuracy*100, '%')\n",
        "pred_labels = model.predict(X_test)\n",
        "#print(pred_labels)\n",
        "CM = confusion_matrix(y_test.argmax(axis = 1), pred_labels.argmax(axis = 1))\n",
        "print(CM)"
      ],
      "execution_count": 0,
      "outputs": [
        {
          "output_type": "stream",
          "text": [
            "210/210 [==============================] - 0s 683us/step\n",
            "Test accuracy is  79.0476189340864 %\n",
            "[[58 10  2]\n",
            " [ 2 63  5]\n",
            " [ 3 22 45]]\n"
          ],
          "name": "stdout"
        }
      ]
    }
  ]
}